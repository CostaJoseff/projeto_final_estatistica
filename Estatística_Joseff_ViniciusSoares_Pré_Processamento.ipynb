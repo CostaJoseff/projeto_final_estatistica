{
  "nbformat": 4,
  "nbformat_minor": 0,
  "metadata": {
    "colab": {
      "provenance": []
    },
    "kernelspec": {
      "name": "python3",
      "display_name": "Python 3"
    },
    "language_info": {
      "name": "python"
    }
  },
  "cells": [
    {
      "cell_type": "markdown",
      "source": [
        "[Clique aqui para fazer download da base de dados](https://github.com/CostaJoseff/projeto_final_estatistica/raw/refs/heads/main/dados_projeto.xlsx)\n",
        "\n",
        "Dependencias necessárias para executar o script:\n",
        "\n",
        "> *pip install pandas openpyxl*\n",
        "\n",
        "> *pip install matplotlib*\n",
        "\n"
      ],
      "metadata": {
        "id": "tdNkpake9NpX"
      }
    },
    {
      "cell_type": "markdown",
      "source": [
        "# Carregando a base de dados:"
      ],
      "metadata": {
        "id": "KVXZWIvN-PTO"
      }
    },
    {
      "cell_type": "code",
      "source": [
        "import pandas as pd\n",
        "\n",
        "url = \"https://github.com/CostaJoseff/projeto_final_estatistica/raw/refs/heads/main/dados_projeto.xlsx\"\n",
        "\n",
        "df = pd.read_excel(url)\n",
        "# Exibe as 5 primeiras linhas\n",
        "print(df.head())\n"
      ],
      "metadata": {
        "colab": {
          "base_uri": "https://localhost:8080/"
        },
        "id": "T-wSMcP--Yus",
        "outputId": "3af7f528-b233-4e96-ca3b-8d50be032ff8"
      },
      "execution_count": null,
      "outputs": [
        {
          "output_type": "stream",
          "name": "stdout",
          "text": [
            "   Investimento_marketing  alcance_midias  cliques  taxa_conversao  \\\n",
            "0                  319.24           27.89    23.19            8.04   \n",
            "1                  274.77           21.66    16.70            7.80   \n",
            "2                  195.16           19.56     9.79            8.35   \n",
            "3                  310.48           31.94    26.59            6.54   \n",
            "4                  241.81           28.98    22.75            8.30   \n",
            "\n",
            "   taxa_ocupacao_hoteleira estacao tipo_destino  orcamento_publico  \\\n",
            "0                     64.7   Media        Praia               85.8   \n",
            "1                     70.5    Alta          NaN               42.1   \n",
            "2                     69.9   Media       Urbano               52.6   \n",
            "3                     57.3    Alta        Campo               53.1   \n",
            "4                     61.4    Alta       Urbano               43.6   \n",
            "\n",
            "   preco_medio_pacote  reputacao_online  eventos_anuais  \n",
            "0                3.84              3.58             2.0  \n",
            "1                2.50              5.00             1.0  \n",
            "2                1.92              1.84             3.0  \n",
            "3                3.93              4.97             7.0  \n",
            "4                5.85              4.26             1.0  \n"
          ]
        }
      ]
    },
    {
      "cell_type": "markdown",
      "source": [
        "# Limpeza de Dados\n",
        "### Remoção de valores ausentes\n",
        "\n",
        "Durante a etapa de inspeção inicial, identificamos que algumas colunas apresentavam valores ausentes (`NaN`).\n",
        "\n",
        "Não faria sentido manter observações incompletas, pois isso poderia distorcer os resultados ou reduzir a confiabilidade das interpretações.  \n",
        "\n",
        "Dessa forma, optamos por **remover todas as linhas que apresentavam pelo menos um valor ausente**.  \n",
        "Após essa filtragem, a base passou a ter **761 observações**, ainda preservando um **tamanho amostral satisfatório** para o desenvolvimento das análises estatísticas e modelagens propostas.\n"
      ],
      "metadata": {
        "id": "Cz4WfiTIBMeT"
      }
    },
    {
      "cell_type": "code",
      "source": [
        "# Remover linhas que possuem qualquer valor vazio (NaN)\n",
        "df_clean = df.dropna()\n",
        "print(df_clean.head())\n",
        "print(\"Dimensão final da base:\", df_clean.shape)\n"
      ],
      "metadata": {
        "colab": {
          "base_uri": "https://localhost:8080/"
        },
        "id": "W0vIm1RoBe5F",
        "outputId": "c7c786e2-79f3-404e-b8c9-01e9efca50ba"
      },
      "execution_count": null,
      "outputs": [
        {
          "output_type": "stream",
          "name": "stdout",
          "text": [
            "   Investimento_marketing  alcance_midias  cliques  taxa_conversao  \\\n",
            "0                  319.24           27.89    23.19            8.04   \n",
            "2                  195.16           19.56     9.79            8.35   \n",
            "3                  310.48           31.94    26.59            6.54   \n",
            "4                  241.81           28.98    22.75            8.30   \n",
            "5                  403.37           63.38    50.15            8.00   \n",
            "\n",
            "   taxa_ocupacao_hoteleira estacao tipo_destino  orcamento_publico  \\\n",
            "0                     64.7   Media        Praia               85.8   \n",
            "2                     69.9   Media       Urbano               52.6   \n",
            "3                     57.3    Alta        Campo               53.1   \n",
            "4                     61.4    Alta       Urbano               43.6   \n",
            "5                     81.7   Media        Praia               73.3   \n",
            "\n",
            "   preco_medio_pacote  reputacao_online  eventos_anuais  \n",
            "0                3.84              3.58             2.0  \n",
            "2                1.92              1.84             3.0  \n",
            "3                3.93              4.97             7.0  \n",
            "4                5.85              4.26             1.0  \n",
            "5                3.85              3.54             4.0  \n",
            "Dimensão final da base: (760, 11)\n"
          ]
        }
      ]
    },
    {
      "cell_type": "markdown",
      "source": [
        "\n",
        "### Remoção de valores negativos\n",
        "\n",
        "No contexto desta base de dados, as variáveis numéricas representam as medidas:\n",
        "\n",
        " *investimento em marketing, alcance de mídias, cliques, taxas de conversao e de ocupação, orçamento público, preços médios de pacotes, reputação online e número de eventos anuais.*\n",
        "\n",
        "\n",
        "Por sua natureza, esses indicadores **não podem assumir valores negativos**:  \n",
        "- Não existe \"investimento negativo\" ou \"alcance negativo\";  \n",
        "- Taxas e reputação online devem ser iguais ou maiores que zero;  \n",
        "- Quantidades discretas, como número de cliques ou eventos, também não fazem sentido abaixo de zero.  \n",
        "\n",
        "Dessa forma, podemos assumir que valores negativos nessas colunas indicam **erros de registro, inconsistências ou ruídos nos dados**.  \n",
        "Para garantir a coerência das análises estatísticas e evitar interpretações equivocadas, optamos por **remover todas as observações que contenham qualquer valor negativo em colunas numéricas**.\n"
      ],
      "metadata": {
        "id": "3RQ02eOO-x1x"
      }
    },
    {
      "cell_type": "code",
      "source": [
        "# Apenas colunas numéricas\n",
        "num_cols = df_clean.select_dtypes(include=[\"float64\", \"int64\"]).columns\n",
        "\n",
        "# Remover linhas que tenham valores negativos em qualquer coluna numérica\n",
        "df_clean = df_clean[(df_clean[num_cols] >= 0).all(axis=1)]\n",
        "\n",
        "print(\"Dimensão final da base:\", df_clean.shape)\n"
      ],
      "metadata": {
        "colab": {
          "base_uri": "https://localhost:8080/"
        },
        "id": "Fyu2lu9L-0IG",
        "outputId": "70d8a7e7-737d-4b51-d1de-b6f9c21c913a"
      },
      "execution_count": null,
      "outputs": [
        {
          "output_type": "stream",
          "name": "stdout",
          "text": [
            "Dimensão final da base: (758, 11)\n"
          ]
        }
      ]
    },
    {
      "cell_type": "markdown",
      "source": [
        "### Identificação de outliers\n",
        "\n",
        "Após a remoção de valores ausentes e negativos, é possível que a base contenha outliers, que podem impactar os resultados.\n",
        "\n",
        "Para uma primeira inspeção, utilizamos **boxplots** das variáveis numéricas. Esse tipo de gráfico destaca valores que estão fora do intervalo interquartil (IQR), facilitando a visualização de possíveis pontos discrepantes.\n"
      ],
      "metadata": {
        "id": "Q6hDI58yFbnt"
      }
    },
    {
      "cell_type": "code",
      "execution_count": null,
      "metadata": {
        "id": "Q3dAuaerHNta"
      },
      "outputs": [],
      "source": [
        "import matplotlib.pyplot as plt\n",
        "\n",
        "df_clean[num_cols].boxplot(figsize=(12,6))\n",
        "plt.xticks(rotation=45)\n",
        "plt.title(\"Boxplots\")\n",
        "plt.show()"
      ]
    }
  ]
}